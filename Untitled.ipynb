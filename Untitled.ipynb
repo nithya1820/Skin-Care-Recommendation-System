{
 "cells": [
  {
   "cell_type": "code",
   "execution_count": 1,
   "id": "de990dbc-7868-486e-90ef-519e73f29432",
   "metadata": {},
   "outputs": [],
   "source": [
    "import pandas as pd\n",
    "from sklearn.feature_extraction.text import TfidfVectorizer\n",
    "from sklearn.metrics.pairwise import cosine_similarity\n",
    "from sklearn.model_selection import train_test_split, GridSearchCV\n",
    "from sklearn.svm import SVC\n",
    "from sklearn.neighbors import KNeighborsClassifier\n",
    "from sklearn.ensemble import RandomForestClassifier\n",
    "from sklearn.metrics import accuracy_score, precision_score, recall_score\n",
    "from sklearn.preprocessing import StandardScaler, LabelEncoder\n",
    "from sklearn.compose import ColumnTransformer\n",
    "from sklearn.pipeline import Pipeline\n",
    "import numpy as np"
   ]
  },
  {
   "cell_type": "code",
   "execution_count": 2,
   "id": "d4f2b0aa-6f1b-4e81-9829-98f0278590ce",
   "metadata": {},
   "outputs": [],
   "source": [
    "# Load dataset\n",
    "df = pd.read_csv('input/cosmetics.csv')"
   ]
  },
  {
   "cell_type": "code",
   "execution_count": 3,
   "id": "51553209-43ba-4892-aac1-6062ffaabf29",
   "metadata": {},
   "outputs": [],
   "source": [
    "# Prepare the Data\n",
    "df['features'] = df['Ingredients']\n",
    "\n",
    "# Initialize and Transform TF-IDF\n",
    "tfidf = TfidfVectorizer(stop_words='english')\n",
    "tfidf_matrix = tfidf.fit_transform(df['features'])\n",
    "\n",
    "# Encode Categorical Features\n",
    "df['Label'] = df['Label'].astype('category').cat.codes\n",
    "df['Brand'] = df['Brand'].astype('category').cat.codes\n",
    "\n",
    "# Combine TF-IDF and Additional Features\n",
    "numerical_features = ['Price', 'Rank']\n",
    "categorical_features = ['Brand']\n",
    "\n",
    "# Preprocess additional features\n",
    "scaler = StandardScaler()\n",
    "preprocessor = ColumnTransformer(\n",
    "    transformers=[\n",
    "        ('num', scaler, numerical_features),\n",
    "    ], remainder='passthrough')\n",
    "\n",
    "# Concatenate features\n",
    "additional_features = preprocessor.fit_transform(df[numerical_features + categorical_features])\n",
    "X_combined = np.hstack((tfidf_matrix.toarray(), additional_features))\n",
    "\n",
    "# Split Data for Training and Testing\n",
    "X = X_combined\n",
    "y = df['Label']\n",
    "X_train, X_test, y_train, y_test = train_test_split(X, y, test_size=0.2, random_state=42)\n"
   ]
  },
  {
   "cell_type": "code",
   "execution_count": null,
   "id": "c2aae8df-534c-4a83-96c3-dc22ab1cf6a9",
   "metadata": {},
   "outputs": [],
   "source": [
    "# Hyperparameter Tuning for SVM\n",
    "svm_params = {\n",
    "    'C': [0.1, 1, 10],\n",
    "    'kernel': ['linear', 'rbf'],\n",
    "    'gamma': ['scale', 'auto']\n",
    "}\n",
    "svm_model = GridSearchCV(SVC(class_weight='balanced'), svm_params, cv=5, scoring='accuracy')\n",
    "svm_model.fit(X_train, y_train)\n"
   ]
  },
  {
   "cell_type": "code",
   "execution_count": null,
   "id": "a7f8af3f-fd8b-49b3-92e7-e73fb0521561",
   "metadata": {},
   "outputs": [],
   "source": [
    "# Hyperparameter Tuning for KNN\n",
    "knn_params = {\n",
    "    'n_neighbors': [3, 5, 10],\n",
    "    'weights': ['uniform', 'distance'],\n",
    "    'metric': ['euclidean', 'manhattan']\n",
    "}\n",
    "knn_model = GridSearchCV(KNeighborsClassifier(), knn_params, cv=5, scoring='accuracy')\n",
    "knn_model.fit(X_train, y_train)"
   ]
  },
  {
   "cell_type": "code",
   "execution_count": null,
   "id": "00f2c887-1e93-441c-b17c-3b0182d46561",
   "metadata": {},
   "outputs": [],
   "source": [
    "# Hyperparameter Tuning for Random Forest\n",
    "rf_params = {\n",
    "    'n_estimators': [50, 100, 200],\n",
    "    'max_depth': [None, 10, 20],\n",
    "    'min_samples_split': [2, 5, 10]\n",
    "}\n",
    "rf_model = GridSearchCV(RandomForestClassifier(class_weight='balanced'), rf_params, cv=5, scoring='accuracy')\n",
    "rf_model.fit(X_train, y_train)"
   ]
  },
  {
   "cell_type": "code",
   "execution_count": null,
   "id": "ea51b5f7-eb9d-45b4-b78a-ba74149e667a",
   "metadata": {},
   "outputs": [],
   "source": [
    "# Evaluate Models\n",
    "svm_best_model = svm_model.best_estimator_\n",
    "knn_best_model = knn_model.best_estimator_\n",
    "rf_best_model = rf_model.best_estimator_\n",
    "\n",
    "svm_accuracy = accuracy_score(y_test, svm_best_model.predict(X_test))\n",
    "knn_accuracy = accuracy_score(y_test, knn_best_model.predict(X_test))\n",
    "rf_accuracy = accuracy_score(y_test, rf_best_model.predict(X_test))"
   ]
  },
  {
   "cell_type": "code",
   "execution_count": null,
   "id": "17eb131c-59a7-4562-90c4-3a3f63f2d4bf",
   "metadata": {},
   "outputs": [],
   "source": [
    "# Define the Recommendation Function\n",
    "def recommend_cosmetics(skin_type, label_filter, rank_filter, brand_filter, price_range, ingredient_input=None, num_recommendations=10):\n",
    "    recommended_products = df[df[skin_type] == 1]\n",
    "\n",
    "    if label_filter != 'All':\n",
    "        recommended_products = recommended_products[recommended_products['Label'] == label_filter]\n",
    "\n",
    "    recommended_products = recommended_products[\n",
    "        (recommended_products['Rank'] >= rank_filter[0]) & \n",
    "        (recommended_products['Rank'] <= rank_filter[1])\n",
    "    ]\n",
    "\n",
    "    if brand_filter != 'All':\n",
    "        recommended_products = recommended_products[recommended_products['Brand'] == brand_filter]\n",
    "\n",
    "    recommended_products = recommended_products[\n",
    "        (recommended_products['Price'] >= price_range[0]) & \n",
    "        (recommended_products['Price'] <= price_range[1])\n",
    "    ]\n",
    "\n",
    "    if ingredient_input:\n",
    "        input_vec = tfidf.transform([ingredient_input])\n",
    "        cosine_similarities = cosine_similarity(input_vec, tfidf_matrix).flatten()\n",
    "        recommended_indices = cosine_similarities.argsort()[-num_recommendations:][::-1]\n",
    "        ingredient_recommendations = df.iloc[recommended_indices]\n",
    "        recommended_products = recommended_products[recommended_products.index.isin(ingredient_recommendations.index)]\n",
    "\n",
    "    return recommended_products.sort_values(by=['Rank']).head(num_recommendations)\n"
   ]
  },
  {
   "cell_type": "code",
   "execution_count": null,
   "id": "72cfab8f-67f8-43b9-b473-f1508bd0e533",
   "metadata": {},
   "outputs": [],
   "source": [
    "# Recommendation Accuracy Evaluation\n",
    "def evaluate_recommendations(recommended_df, ground_truth_labels):\n",
    "    true_labels = ground_truth_labels.loc[recommended_df.index]\n",
    "    predicted_labels = recommended_df['Label']\n",
    "    precision = precision_score(true_labels, predicted_labels, average='macro')\n",
    "    recall = recall_score(true_labels, predicted_labels, average='macro')\n",
    "    return precision, recall"
   ]
  },
  {
   "cell_type": "code",
   "execution_count": null,
   "id": "c288568e-46bc-4cf1-b50b-e4babac8a7d3",
   "metadata": {},
   "outputs": [],
   "source": [
    "# Compare Model Performances\n",
    "print(\"Model Accuracies:\")\n",
    "print(f\"SVM Accuracy: {svm_accuracy}\")\n",
    "print(f\"KNN Accuracy: {knn_accuracy}\")\n",
    "print(f\"Random Forest Accuracy: {rf_accuracy}\")\n"
   ]
  },
  {
   "cell_type": "code",
   "execution_count": null,
   "id": "9c781ba3-2ae0-414e-be3b-a0266527098e",
   "metadata": {},
   "outputs": [],
   "source": [
    "# Sample Recommendation\n",
    "sample_skin_type = 'Combination'\n",
    "sample_label_filter = 'All'\n",
    "sample_rank_filter = (1, 5)\n",
    "sample_brand_filter = 'All'\n",
    "sample_price_range = (10, 50)\n",
    "sample_ingredient_input = 'Aloe Vera, Vitamin E'\n",
    "\n",
    "recommended_products = recommend_cosmetics(\n",
    "    sample_skin_type, sample_label_filter, sample_rank_filter, \n",
    "    sample_brand_filter, sample_price_range, sample_ingredient_input\n",
    ")\n",
    "print(\"\\nRecommended Products:\")\n",
    "print(recommended_products[['Label', 'Brand', 'Name', 'Ingredients', 'Rank']])"
   ]
  },
  {
   "cell_type": "code",
   "execution_count": null,
   "id": "8543e684-0442-408b-90f8-e84a4d08147b",
   "metadata": {},
   "outputs": [],
   "source": [
    "# Evaluate Recommendation Accuracy\n",
    "precision, recall = evaluate_recommendations(recommended_products, df['Label'])\n",
    "print(\"\\nRecommendation Accuracy Metrics:\")\n",
    "print(f\"Precision: {precision}\")\n",
    "print(f\"Recall: {recall}\")"
   ]
  },
  {
   "cell_type": "code",
   "execution_count": null,
   "id": "252edda8-a68d-4892-b2d3-b51ffddc4873",
   "metadata": {},
   "outputs": [],
   "source": []
  }
 ],
 "metadata": {
  "kernelspec": {
   "display_name": "Python 3 (ipykernel)",
   "language": "python",
   "name": "python3"
  },
  "language_info": {
   "codemirror_mode": {
    "name": "ipython",
    "version": 3
   },
   "file_extension": ".py",
   "mimetype": "text/x-python",
   "name": "python",
   "nbconvert_exporter": "python",
   "pygments_lexer": "ipython3",
   "version": "3.12.5"
  }
 },
 "nbformat": 4,
 "nbformat_minor": 5
}
