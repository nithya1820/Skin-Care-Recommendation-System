{
 "cells": [
  {
   "cell_type": "markdown",
   "id": "f872f217-31dd-41e3-891a-66ef112b98b0",
   "metadata": {},
   "source": [
    "### Importing libraries"
   ]
  },
  {
   "cell_type": "code",
   "execution_count": 29,
   "id": "b8fad96f-b41c-48fb-a847-a6d6a86942f8",
   "metadata": {},
   "outputs": [],
   "source": [
    "import pandas as pd\n",
    "import numpy as np\n",
    "import matplotlib.pyplot as plt\n",
    "import seaborn as sns\n",
    "import pandas as pd\n",
    "from sklearn.feature_extraction.text import TfidfVectorizer\n",
    "from sklearn.metrics.pairwise import cosine_similarity\n",
    "from sklearn.model_selection import train_test_split, GridSearchCV\n",
    "from sklearn.svm import SVC\n",
    "from sklearn.neighbors import KNeighborsClassifier\n",
    "from sklearn.ensemble import RandomForestClassifier\n",
    "from sklearn.metrics import accuracy_score\n",
    "from sklearn.preprocessing import StandardScaler\n",
    "from sklearn.neighbors import NearestNeighbors\n",
    "from sklearn.metrics import mean_squared_error\n",
    "from math import sqrt\n",
    "from scipy.sparse import hstack\n",
    "from scipy.sparse import csr_matrix\n"
   ]
  },
  {
   "cell_type": "markdown",
   "id": "3335a235-d294-4e2d-9708-ab6165491f8a",
   "metadata": {},
   "source": [
    "### Loading data and EDA"
   ]
  },
  {
   "cell_type": "code",
   "execution_count": 30,
   "id": "7f49a8f1-4287-4310-977f-e5a105e43cbc",
   "metadata": {},
   "outputs": [],
   "source": [
    "# Load dataset\n",
    "df = pd.read_csv('input/cosmetics.csv')"
   ]
  },
  {
   "cell_type": "code",
   "execution_count": 3,
   "id": "c32ce3b2-1f32-477a-a704-9b5d75e7eeac",
   "metadata": {},
   "outputs": [
    {
     "name": "stdout",
     "output_type": "stream",
     "text": [
      "<class 'pandas.core.frame.DataFrame'>\n",
      "RangeIndex: 1472 entries, 0 to 1471\n",
      "Data columns (total 11 columns):\n",
      " #   Column       Non-Null Count  Dtype  \n",
      "---  ------       --------------  -----  \n",
      " 0   Label        1472 non-null   object \n",
      " 1   Brand        1472 non-null   object \n",
      " 2   Name         1472 non-null   object \n",
      " 3   Price        1472 non-null   int64  \n",
      " 4   Rank         1472 non-null   float64\n",
      " 5   Ingredients  1472 non-null   object \n",
      " 6   Combination  1472 non-null   int64  \n",
      " 7   Dry          1472 non-null   int64  \n",
      " 8   Normal       1472 non-null   int64  \n",
      " 9   Oily         1472 non-null   int64  \n",
      " 10  Sensitive    1472 non-null   int64  \n",
      "dtypes: float64(1), int64(6), object(4)\n",
      "memory usage: 126.6+ KB\n"
     ]
    }
   ],
   "source": [
    "df.info()"
   ]
  },
  {
   "cell_type": "code",
   "execution_count": 4,
   "id": "e182066b-7060-4dcc-9136-431f5255be81",
   "metadata": {},
   "outputs": [
    {
     "data": {
      "text/html": [
       "<div>\n",
       "<style scoped>\n",
       "    .dataframe tbody tr th:only-of-type {\n",
       "        vertical-align: middle;\n",
       "    }\n",
       "\n",
       "    .dataframe tbody tr th {\n",
       "        vertical-align: top;\n",
       "    }\n",
       "\n",
       "    .dataframe thead th {\n",
       "        text-align: right;\n",
       "    }\n",
       "</style>\n",
       "<table border=\"1\" class=\"dataframe\">\n",
       "  <thead>\n",
       "    <tr style=\"text-align: right;\">\n",
       "      <th></th>\n",
       "      <th>Label</th>\n",
       "      <th>Brand</th>\n",
       "      <th>Name</th>\n",
       "      <th>Price</th>\n",
       "      <th>Rank</th>\n",
       "      <th>Ingredients</th>\n",
       "      <th>Combination</th>\n",
       "      <th>Dry</th>\n",
       "      <th>Normal</th>\n",
       "      <th>Oily</th>\n",
       "      <th>Sensitive</th>\n",
       "    </tr>\n",
       "  </thead>\n",
       "  <tbody>\n",
       "    <tr>\n",
       "      <th>0</th>\n",
       "      <td>Moisturizer</td>\n",
       "      <td>LA MER</td>\n",
       "      <td>Crème de la Mer</td>\n",
       "      <td>175</td>\n",
       "      <td>4.1</td>\n",
       "      <td>Algae (Seaweed) Extract, Mineral Oil, Petrolat...</td>\n",
       "      <td>1</td>\n",
       "      <td>1</td>\n",
       "      <td>1</td>\n",
       "      <td>1</td>\n",
       "      <td>1</td>\n",
       "    </tr>\n",
       "    <tr>\n",
       "      <th>1</th>\n",
       "      <td>Moisturizer</td>\n",
       "      <td>SK-II</td>\n",
       "      <td>Facial Treatment Essence</td>\n",
       "      <td>179</td>\n",
       "      <td>4.1</td>\n",
       "      <td>Galactomyces Ferment Filtrate (Pitera), Butyle...</td>\n",
       "      <td>1</td>\n",
       "      <td>1</td>\n",
       "      <td>1</td>\n",
       "      <td>1</td>\n",
       "      <td>1</td>\n",
       "    </tr>\n",
       "    <tr>\n",
       "      <th>2</th>\n",
       "      <td>Moisturizer</td>\n",
       "      <td>DRUNK ELEPHANT</td>\n",
       "      <td>Protini™ Polypeptide Cream</td>\n",
       "      <td>68</td>\n",
       "      <td>4.4</td>\n",
       "      <td>Water, Dicaprylyl Carbonate, Glycerin, Ceteary...</td>\n",
       "      <td>1</td>\n",
       "      <td>1</td>\n",
       "      <td>1</td>\n",
       "      <td>1</td>\n",
       "      <td>0</td>\n",
       "    </tr>\n",
       "    <tr>\n",
       "      <th>3</th>\n",
       "      <td>Moisturizer</td>\n",
       "      <td>LA MER</td>\n",
       "      <td>The Moisturizing Soft Cream</td>\n",
       "      <td>175</td>\n",
       "      <td>3.8</td>\n",
       "      <td>Algae (Seaweed) Extract, Cyclopentasiloxane, P...</td>\n",
       "      <td>1</td>\n",
       "      <td>1</td>\n",
       "      <td>1</td>\n",
       "      <td>1</td>\n",
       "      <td>1</td>\n",
       "    </tr>\n",
       "    <tr>\n",
       "      <th>4</th>\n",
       "      <td>Moisturizer</td>\n",
       "      <td>IT COSMETICS</td>\n",
       "      <td>Your Skin But Better™ CC+™ Cream with SPF 50+</td>\n",
       "      <td>38</td>\n",
       "      <td>4.1</td>\n",
       "      <td>Water, Snail Secretion Filtrate, Phenyl Trimet...</td>\n",
       "      <td>1</td>\n",
       "      <td>1</td>\n",
       "      <td>1</td>\n",
       "      <td>1</td>\n",
       "      <td>1</td>\n",
       "    </tr>\n",
       "  </tbody>\n",
       "</table>\n",
       "</div>"
      ],
      "text/plain": [
       "         Label           Brand                                           Name  \\\n",
       "0  Moisturizer          LA MER                                Crème de la Mer   \n",
       "1  Moisturizer           SK-II                       Facial Treatment Essence   \n",
       "2  Moisturizer  DRUNK ELEPHANT                     Protini™ Polypeptide Cream   \n",
       "3  Moisturizer          LA MER                    The Moisturizing Soft Cream   \n",
       "4  Moisturizer    IT COSMETICS  Your Skin But Better™ CC+™ Cream with SPF 50+   \n",
       "\n",
       "   Price  Rank                                        Ingredients  \\\n",
       "0    175   4.1  Algae (Seaweed) Extract, Mineral Oil, Petrolat...   \n",
       "1    179   4.1  Galactomyces Ferment Filtrate (Pitera), Butyle...   \n",
       "2     68   4.4  Water, Dicaprylyl Carbonate, Glycerin, Ceteary...   \n",
       "3    175   3.8  Algae (Seaweed) Extract, Cyclopentasiloxane, P...   \n",
       "4     38   4.1  Water, Snail Secretion Filtrate, Phenyl Trimet...   \n",
       "\n",
       "   Combination  Dry  Normal  Oily  Sensitive  \n",
       "0            1    1       1     1          1  \n",
       "1            1    1       1     1          1  \n",
       "2            1    1       1     1          0  \n",
       "3            1    1       1     1          1  \n",
       "4            1    1       1     1          1  "
      ]
     },
     "execution_count": 4,
     "metadata": {},
     "output_type": "execute_result"
    }
   ],
   "source": [
    "df.head()"
   ]
  },
  {
   "cell_type": "code",
   "execution_count": 5,
   "id": "f6a4d38b-17c8-40ac-9cef-2b251bf6dbea",
   "metadata": {},
   "outputs": [
    {
     "name": "stdout",
     "output_type": "stream",
     "text": [
      "(1472, 11)\n"
     ]
    }
   ],
   "source": [
    "print(df.shape)"
   ]
  },
  {
   "cell_type": "code",
   "execution_count": 6,
   "id": "7a94447f-adc3-4725-b8dc-ca7e0643c13f",
   "metadata": {},
   "outputs": [
    {
     "name": "stdout",
     "output_type": "stream",
     "text": [
      "             Price         Rank  Combination          Dry       Normal  \\\n",
      "count  1472.000000  1472.000000   1472.00000  1472.000000  1472.000000   \n",
      "mean     55.584239     4.153261      0.65625     0.614130     0.652174   \n",
      "std      45.014429     0.633918      0.47512     0.486965     0.476442   \n",
      "min       3.000000     0.000000      0.00000     0.000000     0.000000   \n",
      "25%      30.000000     4.000000      0.00000     0.000000     0.000000   \n",
      "50%      42.500000     4.300000      1.00000     1.000000     1.000000   \n",
      "75%      68.000000     4.500000      1.00000     1.000000     1.000000   \n",
      "max     370.000000     5.000000      1.00000     1.000000     1.000000   \n",
      "\n",
      "              Oily    Sensitive  \n",
      "count  1472.000000  1472.000000  \n",
      "mean      0.607337     0.513587  \n",
      "std       0.488509     0.499985  \n",
      "min       0.000000     0.000000  \n",
      "25%       0.000000     0.000000  \n",
      "50%       1.000000     1.000000  \n",
      "75%       1.000000     1.000000  \n",
      "max       1.000000     1.000000  \n"
     ]
    }
   ],
   "source": [
    "print(df.describe())"
   ]
  },
  {
   "cell_type": "code",
   "execution_count": 7,
   "id": "d895b549-3aa6-4b2d-9a3b-2c6119c8cce8",
   "metadata": {},
   "outputs": [
    {
     "name": "stdout",
     "output_type": "stream",
     "text": [
      "Label          0\n",
      "Brand          0\n",
      "Name           0\n",
      "Price          0\n",
      "Rank           0\n",
      "Ingredients    0\n",
      "Combination    0\n",
      "Dry            0\n",
      "Normal         0\n",
      "Oily           0\n",
      "Sensitive      0\n",
      "dtype: int64\n"
     ]
    }
   ],
   "source": [
    "print(df.isnull().sum())"
   ]
  },
  {
   "cell_type": "code",
   "execution_count": 8,
   "id": "95a61229-1e97-4abf-9cc6-91108dc4ac0b",
   "metadata": {},
   "outputs": [],
   "source": [
    "data = df.drop_duplicates()  # Remove duplicate rows"
   ]
  },
  {
   "cell_type": "code",
   "execution_count": 9,
   "id": "eaad15ed-dfc6-4119-82f0-cd2f46f21bf1",
   "metadata": {},
   "outputs": [
    {
     "data": {
      "text/plain": [
       "116"
      ]
     },
     "execution_count": 9,
     "metadata": {},
     "output_type": "execute_result"
    }
   ],
   "source": [
    "total_brands_count = len(df[\"Brand\"].unique())\n",
    "total_brands_count"
   ]
  },
  {
   "cell_type": "code",
   "execution_count": 10,
   "id": "4efce719-05a4-4ee7-a523-bd6933241b89",
   "metadata": {},
   "outputs": [
    {
     "data": {
      "text/plain": [
       "6"
      ]
     },
     "execution_count": 10,
     "metadata": {},
     "output_type": "execute_result"
    }
   ],
   "source": [
    "total_Labels_count = len(df[\"Label\"].unique())\n",
    "total_Labels_count"
   ]
  },
  {
   "cell_type": "code",
   "execution_count": 11,
   "id": "4ffc1abf-7e46-4e6e-b00f-e6ecc86b5856",
   "metadata": {},
   "outputs": [
    {
     "data": {
      "image/png": "[encoded data removed]",
      "text/plain": [
       "<Figure size 640x480 with 1 Axes>"
      ]
     },
     "metadata": {},
     "output_type": "display_data"
    }
   ],
   "source": [
    "# Plot histogram of product ratings\n",
    "plt.hist(df[\"Rank\"], bins=10, color='skyblue', edgecolor='black')\n",
    "plt.title('Distribution of Product Ratings')\n",
    "plt.xlabel('Rating')\n",
    "plt.ylabel('Frequency')\n",
    "plt.grid(True)\n",
    "plt.show()"
   ]
  },
  {
   "cell_type": "code",
   "execution_count": 12,
   "id": "b6470caa-86cb-4081-b598-bcd70774ba25",
   "metadata": {},
   "outputs": [
    {
     "name": "stdout",
     "output_type": "stream",
     "text": [
      "Top 5 highest-ranked brands: ['BIOEFFECT', 'SEPHORA COLLECTION', 'PERRICONE MD', 'FOREO', 'DIOR']\n"
     ]
    }
   ],
   "source": [
    "top_5_highest_rank_brands = df.sort_values(by=\"Rank\", ascending=False).head(5)[\"Brand\"]\n",
    "print(\"Top 5 highest-ranked brands:\", top_5_highest_rank_brands.tolist())"
   ]
  },
  {
   "cell_type": "markdown",
   "id": "fc47db25-453f-458a-81cd-81c317198c07",
   "metadata": {},
   "source": [
    "### Recommendation using collaborative-based filtering"
   ]
  },
  {
   "cell_type": "code",
   "execution_count": 22,
   "id": "79da76a4-6ec9-4639-8e00-84554b48d956",
   "metadata": {},
   "outputs": [],
   "source": [
    "# Step 1: Generate synthetic user_id, product_id, and ratings\n",
    "num_users = 100  # Number of unique users\n",
    "num_products = len(df)\n",
    "\n",
    "# Add product_id\n",
    "df['product_id'] = range(1, num_products + 1)\n",
    "\n",
    "# Generate synthetic user ratings\n",
    "np.random.seed(42)\n",
    "user_ids = np.random.randint(1, num_users + 1, size=num_products * 3)\n",
    "product_ids = np.random.choice(df['product_id'], size=num_products * 3, replace=True)\n",
    "ratings = np.random.randint(1, 6, size=num_products * 3)  # Ratings between 1 and 5\n",
    "\n",
    "# Create user-item ratings DataFrame\n",
    "ratings_df = pd.DataFrame({\n",
    "    'user_id': user_ids,\n",
    "    'product_id': product_ids,\n",
    "    'rating': ratings\n",
    "})\n",
    "\n",
    "\n",
    "# Step 2: Create User-Item Matrix\n",
    "user_item_matrix = ratings_df.pivot_table(index='user_id', columns='product_id', values='rating', fill_value=0)\n",
    "\n",
    "# Collaborative Filtering: Item-Based Similarity\n",
    "item_similarity = cosine_similarity(user_item_matrix.T)\n",
    "item_similarity_df = pd.DataFrame(item_similarity, index=user_item_matrix.columns, columns=user_item_matrix.columns)"
   ]
  },
  {
   "cell_type": "code",
   "execution_count": 23,
   "id": "5b27d35f-a157-496b-81c5-6e2ffc61f7f1",
   "metadata": {},
   "outputs": [],
   "source": [
    "# Recommendation Function\n",
    "def recommend_products_item_based(user_id, num_recommendations=5):\n",
    "    user_ratings = user_item_matrix.loc[user_id]\n",
    "    liked_products = user_ratings[user_ratings > 0].index.tolist()\n",
    "    \n",
    "    # Compute similar product scores\n",
    "    similar_scores = pd.Series(dtype='float64')\n",
    "    for product in liked_products:\n",
    "        similar_products = item_similarity_df[product]\n",
    "        similar_scores = similar_scores.add(similar_products, fill_value=0)\n",
    "    \n",
    "    # Remove already rated products\n",
    "    similar_scores = similar_scores.drop(index=liked_products, errors='ignore')\n",
    "    recommendations = similar_scores.sort_values(ascending=False).head(num_recommendations)\n",
    "    \n",
    "    return recommendations.index"
   ]
  },
  {
   "cell_type": "code",
   "execution_count": 24,
   "id": "ea6896dd-28f5-4607-a7d1-d01323926c36",
   "metadata": {},
   "outputs": [
    {
     "name": "stdout",
     "output_type": "stream",
     "text": [
      "Recommended products for User ID 52:\n",
      "\n",
      "      product_id                                               Name  \\\n",
      "205          206  Moisture Surge Hydrating Supercharged Concentrate   \n",
      "681          682                Water Drench Hyaluronic Cloud Serum   \n",
      "753          754                  Bio-Performance LiftDynamic Serum   \n",
      "1016        1017                                   Glow Addict Mask   \n",
      "1423        1424             Flawless Skin Daily Face Shield SPF 40   \n",
      "\n",
      "                  Brand  \n",
      "205            CLINIQUE  \n",
      "681   PETER THOMAS ROTH  \n",
      "753            SHISEIDO  \n",
      "1016              FOREO  \n",
      "1423      LAURA MERCIER  \n",
      "\n",
      "RMSE for Collaborative Filtering: 1.296\n"
     ]
    }
   ],
   "source": [
    "# Step 3: RMSE Calculation\n",
    "def calculate_rmse():\n",
    "    actual_ratings = []\n",
    "    predicted_ratings = []\n",
    "    \n",
    "    for user_id in user_item_matrix.index:\n",
    "        user_ratings = user_item_matrix.loc[user_id]\n",
    "        liked_products = user_ratings[user_ratings > 0].index.tolist()\n",
    "        \n",
    "        for product in liked_products:\n",
    "            # Predict rating based on similarity\n",
    "            similar_products = item_similarity_df[product]\n",
    "            predicted_rating = (user_ratings[liked_products] * similar_products[liked_products]).sum() / similar_products[liked_products].sum()\n",
    "            predicted_ratings.append(predicted_rating)\n",
    "            actual_ratings.append(user_ratings[product])\n",
    "    \n",
    "    # RMSE between actual and predicted ratings\n",
    "    return sqrt(mean_squared_error(actual_ratings, predicted_ratings))\n",
    "\n",
    "# Step 4: Run Recommendation and Evaluate\n",
    "sample_user = user_ids[0]\n",
    "recommended_product_ids = recommend_products_item_based(sample_user)\n",
    "recommended_products = df[df['product_id'].isin(recommended_product_ids)]\n",
    "\n",
    "print(f\"Recommended products for User ID {sample_user}:\\n\")\n",
    "print(recommended_products[['product_id', 'Name', 'Brand']])\n",
    "\n",
    "# Calculate RMSE\n",
    "rmse = calculate_rmse()\n",
    "print(f\"\\nRMSE for Collaborative Filtering: {rmse:.3f}\")"
   ]
  },
  {
   "cell_type": "markdown",
   "id": "b77727e8-bff8-4e5c-b696-5c87dd38f927",
   "metadata": {},
   "source": [
    "### Recommendation using content-based filtering"
   ]
  },
  {
   "cell_type": "code",
   "execution_count": 25,
   "id": "a214179e-3f25-4355-978f-f9b74f184d26",
   "metadata": {},
   "outputs": [],
   "source": [
    "def recommend_cosmetics(skin_type, label_filter, rank_filter, brand_filter, price_range, ingredient_input=None, num_recommendations=10):\n",
    "    recommended_products = df[df[skin_type] == 1]\n",
    "    \n",
    "    if label_filter != 'All':\n",
    "        recommended_products = recommended_products[recommended_products['Label'] == label_filter]\n",
    "    \n",
    "    recommended_products = recommended_products[\n",
    "        (recommended_products['Rank'] >= rank_filter[0]) & \n",
    "        (recommended_products['Rank'] <= rank_filter[1])\n",
    "    ]\n",
    "    \n",
    "    if brand_filter != 'All':\n",
    "        recommended_products = recommended_products[recommended_products['Brand'] == brand_filter]\n",
    "    \n",
    "    recommended_products = recommended_products[\n",
    "        (recommended_products['Price'] >= price_range[0]) & \n",
    "        (recommended_products['Price'] <= price_range[1])\n",
    "    ]\n",
    "\n",
    "    if ingredient_input:\n",
    "        vectorizer = TfidfVectorizer(stop_words='english')\n",
    "        tfidf_matrix = vectorizer.fit_transform(df['Ingredients'])\n",
    "        input_vec = vectorizer.transform([ingredient_input])\n",
    "        cosine_similarities = cosine_similarity(input_vec, tfidf_matrix).flatten()\n",
    "        recommended_indices = cosine_similarities.argsort()[-num_recommendations:][::-1]\n",
    "        ingredient_recommendations = df.iloc[recommended_indices]\n",
    "        recommended_products = recommended_products[recommended_products.index.isin(ingredient_recommendations.index)]\n",
    "    \n",
    "    return recommended_products.sort_values(by=['Rank']).head(num_recommendations)\n",
    "    "
   ]
  },
  {
   "cell_type": "code",
   "execution_count": 26,
   "id": "abf8b38d-ff10-4a91-af83-1fd6e31b93dd",
   "metadata": {},
   "outputs": [
    {
     "name": "stdout",
     "output_type": "stream",
     "text": [
      "      Label               Brand                                        Name  \\\n",
      "861       2  KIEHL'S SINCE 1851    Calendula & Aloe Soothing Hydration Mask   \n",
      "1099      1               FRESH  Black Tea Firming and De-Puffing Eye Cream   \n",
      "1076      2            CLINIQUE      Pep-Start Double Bubble Purifying Mask   \n",
      "374       0            CAUDALIE                    Micellar Cleansing Water   \n",
      "1042      2     KATE SOMERVILLE         Wrinkle Warrior® Pink Plumping Mask   \n",
      "\n",
      "      Price  Rank                                        Ingredients  \\\n",
      "861      45   4.0  Water, Glycerin, Aloe Barbadensis Leaf Juice, ...   \n",
      "1099     68   4.0  Water, Glycerin, Butylene Glycol, Squalane, Pr...   \n",
      "1076     24   4.0  Water , Disiloxane , Cocamidopropyl Betaine , ...   \n",
      "374      14   4.0  Water, Glycerin*, Poloxamer 188, Vitis Vinifer...   \n",
      "1042     56   4.0  Water, Propanediol, Glycerin, Pyrus Malus (App...   \n",
      "\n",
      "      Combination  Dry  Normal  Oily  Sensitive  \\\n",
      "861             1    1       1     1          1   \n",
      "1099            1    1       1     1          1   \n",
      "1076            1    1       1     1          0   \n",
      "374             1    1       1     1          1   \n",
      "1042            1    1       1     1          0   \n",
      "\n",
      "                                               features  product_id  \n",
      "861   Water, Glycerin, Aloe Barbadensis Leaf Juice, ...         862  \n",
      "1099  Water, Glycerin, Butylene Glycol, Squalane, Pr...        1100  \n",
      "1076  Water , Disiloxane , Cocamidopropyl Betaine , ...        1077  \n",
      "374   Water, Glycerin*, Poloxamer 188, Vitis Vinifer...         375  \n",
      "1042  Water, Propanediol, Glycerin, Pyrus Malus (App...        1043  \n"
     ]
    }
   ],
   "source": [
    "# Test with relaxed filters\n",
    "recommended_products = recommend_cosmetics(\n",
    "    skin_type='Oily',\n",
    "    label_filter='All',\n",
    "    rank_filter=(4,5),\n",
    "    brand_filter='All',\n",
    "    price_range=(0, 5000),\n",
    "    ingredient_input=None,\n",
    "    num_recommendations=5\n",
    ")\n",
    "print(recommended_products)"
   ]
  },
  {
   "cell_type": "code",
   "execution_count": null,
   "id": "740ff3f8-5f72-4162-83d5-f8481189dade",
   "metadata": {},
   "outputs": [],
   "source": []
  }
 ],
 "metadata": {
  "kernelspec": {
   "display_name": "Python 3 (ipykernel)",
   "language": "python",
   "name": "python3"
  },
  "language_info": {
   "codemirror_mode": {
    "name": "ipython",
    "version": 3
   },
   "file_extension": ".py",
   "mimetype": "text/x-python",
   "name": "python",
   "nbconvert_exporter": "python",
   "pygments_lexer": "ipython3",
   "version": "3.12.5"
  }
 },
 "nbformat": 4,
 "nbformat_minor": 5
}
